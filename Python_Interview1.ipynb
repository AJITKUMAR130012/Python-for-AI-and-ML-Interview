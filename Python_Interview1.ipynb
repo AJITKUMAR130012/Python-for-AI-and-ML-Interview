{
 "cells": [
  {
   "cell_type": "code",
   "execution_count": 18,
   "id": "c9bff711",
   "metadata": {},
   "outputs": [],
   "source": [
    "import numpy as np\n",
    "a=np.random.random((5,4))"
   ]
  },
  {
   "cell_type": "code",
   "execution_count": 19,
   "id": "7cc9f036",
   "metadata": {},
   "outputs": [],
   "source": [
    "b=np.random.random((5,4))"
   ]
  },
  {
   "cell_type": "code",
   "execution_count": 20,
   "id": "733a5d3f",
   "metadata": {},
   "outputs": [
    {
     "name": "stdout",
     "output_type": "stream",
     "text": [
      "[[0.18949185 0.05252158 0.5032128  0.57830652]\n",
      " [0.93234428 0.16583311 0.02686659 0.57787318]\n",
      " [0.29687347 0.40851973 0.97366552 0.73855779]\n",
      " [0.85986028 0.39452199 0.4022694  0.16836556]\n",
      " [0.08611994 0.52393588 0.8997445  0.21227079]]\n"
     ]
    }
   ],
   "source": [
    "print(a)"
   ]
  },
  {
   "cell_type": "code",
   "execution_count": 21,
   "id": "a2efa2ff",
   "metadata": {},
   "outputs": [
    {
     "name": "stdout",
     "output_type": "stream",
     "text": [
      "[[0.25090203 0.19676072 0.83153015 0.90957322]\n",
      " [0.50916662 0.20030906 0.49634366 0.31439404]\n",
      " [0.37415206 0.26381761 0.99625852 0.03189196]\n",
      " [0.1168973  0.42115674 0.84250506 0.88375569]\n",
      " [0.39540521 0.86022855 0.41575427 0.38392532]]\n"
     ]
    }
   ],
   "source": [
    "print(b)"
   ]
  },
  {
   "cell_type": "code",
   "execution_count": 30,
   "id": "1149c873",
   "metadata": {},
   "outputs": [],
   "source": [
    "ans=np.zeros([5,4])\n",
    "for i in range(0,5,1):\n",
    "    for j in range(0,4,1):\n",
    "        ans[i][j]=a[i][j]+b[i][j]\n",
    "       \n",
    "\n",
    "        "
   ]
  },
  {
   "cell_type": "code",
   "execution_count": 33,
   "id": "543fee38",
   "metadata": {},
   "outputs": [
    {
     "name": "stdout",
     "output_type": "stream",
     "text": [
      "[[0.44039388 0.2492823  1.33474295 1.48787975]\n",
      " [1.4415109  0.36614217 0.52321025 0.89226722]\n",
      " [0.67102553 0.67233734 1.96992403 0.77044975]\n",
      " [0.97675757 0.81567873 1.24477446 1.05212126]\n",
      " [0.48152514 1.38416443 1.31549877 0.5961961 ]]\n"
     ]
    }
   ],
   "source": [
    "print(ans)\n"
   ]
  },
  {
   "cell_type": "code",
   "execution_count": 37,
   "id": "d700fff6",
   "metadata": {},
   "outputs": [
    {
     "name": "stdout",
     "output_type": "stream",
     "text": [
      "(5, 4)\n"
     ]
    }
   ],
   "source": [
    "print(ans.shape)"
   ]
  },
  {
   "cell_type": "code",
   "execution_count": null,
   "id": "19b881bf",
   "metadata": {},
   "outputs": [],
   "source": []
  }
 ],
 "metadata": {
  "kernelspec": {
   "display_name": "Python 3 (ipykernel)",
   "language": "python",
   "name": "python3"
  },
  "language_info": {
   "codemirror_mode": {
    "name": "ipython",
    "version": 3
   },
   "file_extension": ".py",
   "mimetype": "text/x-python",
   "name": "python",
   "nbconvert_exporter": "python",
   "pygments_lexer": "ipython3",
   "version": "3.9.12"
  }
 },
 "nbformat": 4,
 "nbformat_minor": 5
}
